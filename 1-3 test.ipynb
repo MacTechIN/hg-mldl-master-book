{
 "cells": [
  {
   "cell_type": "markdown",
   "metadata": {
    "id": "qYmmUAcJGuFB"
   },
   "source": [
    "# 마켓과 머신러닝"
   ]
  },
  {
   "cell_type": "markdown",
   "metadata": {
    "id": "jqs5_59hGuFE"
   },
   "source": [
    "<table align=\"left\">\n",
    "  <td>\n",
    "    <a target=\"_blank\" href=\"https://colab.research.google.com/github/rickiepark/hg-mldl/blob/master/1-3.ipynb\"><img src=\"https://www.tensorflow.org/images/colab_logo_32px.png\" />구글 코랩에서 실행하기</a>\n",
    "  </td>\n",
    "</table>"
   ]
  },
  {
   "cell_type": "markdown",
   "metadata": {
    "id": "VJp1cvmpGuFF"
   },
   "source": [
    "## 생선 분류 문제"
   ]
  },
  {
   "cell_type": "markdown",
   "metadata": {
    "id": "QjvcIpHmGuFF"
   },
   "source": [
    "### 도미 데이터 준비하기\n",
    "\n",
    "    - K-최근접 이웃 알고리즘 KNN\n",
    "    \n",
    "    KNeigbhorClassifier()\n",
    "    \n",
    "    fit () 훈련 \n",
    "    predict() 예측 \n",
    "    score() 측정 \n",
    "    \n",
    "  "
   ]
  },
  {
   "cell_type": "code",
   "execution_count": null,
   "metadata": {
    "id": "AhUYjyga-mAw"
   },
   "outputs": [],
   "source": [
    "bream_length = [25.4, 26.3, 26.5, 29.0, 29.0, 29.7, 29.7, 30.0, 30.0, 30.7, 31.0, 31.0, 31.5, 32.0, 32.0, 32.0, 33.0, 33.0, 33.5, 33.5, 34.0, 34.0, 34.5, 35.0, 35.0, 35.0, 35.0, 36.0, 36.0, 37.0, 38.5, 38.5, 39.5, 41.0, 41.0]\n",
    "bream_weight = [242.0, 290.0, 340.0, 363.0, 430.0, 450.0, 500.0, 390.0, 450.0, 500.0, 475.0, 500.0, 500.0, 340.0, 600.0, 600.0, 700.0, 700.0, 610.0, 650.0, 575.0, 685.0, 620.0, 680.0, 700.0, 725.0, 720.0, 714.0, 850.0, 1000.0, 920.0, 955.0, 925.0, 975.0, 950.0]"
   ]
  },
  {
   "cell_type": "code",
   "execution_count": null,
   "metadata": {
    "colab": {
     "base_uri": "https://localhost:8080/",
     "height": 449
    },
    "id": "mSj-Xx1gENO_",
    "outputId": "9549ce45-1fe1-4b8a-d2b8-c268a543bae8"
   },
   "outputs": [],
   "source": [
    "import matplotlib.pyplot as plt\n",
    "\n",
    "plt.scatter(bream_length, bream_weight)\n",
    "plt.xlabel('length')\n",
    "plt.ylabel('weight')\n",
    "plt.show()"
   ]
  },
  {
   "cell_type": "code",
   "execution_count": null,
   "metadata": {},
   "outputs": [],
   "source": [
    "len(bream_length)"
   ]
  },
  {
   "cell_type": "markdown",
   "metadata": {
    "id": "8LOWA7jQGuFH"
   },
   "source": [
    "### 빙어 데이터 준비하기"
   ]
  },
  {
   "cell_type": "code",
   "execution_count": null,
   "metadata": {
    "id": "Hj_L_F9RH5B0"
   },
   "outputs": [],
   "source": [
    "smelt_length = [9.8, 10.5, 10.6, 11.0, 11.2, 11.3, 11.8, 11.8, 12.0, 12.2, 12.4, 13.0, 14.3, 15.0]\n",
    "smelt_weight = [6.7, 7.5, 7.0, 9.7, 9.8, 8.7, 10.0, 9.9, 9.8, 12.2, 13.4, 12.2, 19.7, 19.9]"
   ]
  },
  {
   "cell_type": "code",
   "execution_count": null,
   "metadata": {
    "colab": {
     "base_uri": "https://localhost:8080/",
     "height": 449
    },
    "id": "z0ywO_s4S98S",
    "outputId": "dd053605-5019-41ea-fc26-c4d0f4b6d640"
   },
   "outputs": [],
   "source": [
    "plt.scatter(bream_length, bream_weight)\n",
    "plt.scatter(smelt_length, smelt_weight)\n",
    "plt.xlabel('length')\n",
    "plt.ylabel('weight')\n",
    "plt.show()"
   ]
  },
  {
   "cell_type": "code",
   "execution_count": null,
   "metadata": {},
   "outputs": [],
   "source": [
    "len(smelt_length)"
   ]
  },
  {
   "cell_type": "markdown",
   "metadata": {
    "id": "-RU-Qs13GuFI"
   },
   "source": [
    "## 첫 번째 머신러닝 프로그램"
   ]
  },
  {
   "cell_type": "code",
   "execution_count": null,
   "metadata": {
    "id": "djyDIbjmTDag"
   },
   "outputs": [],
   "source": [
    "#도미와 빙어 데이터를 하나로 합침 \n"
   ]
  },
  {
   "cell_type": "code",
   "execution_count": null,
   "metadata": {
    "colab": {
     "base_uri": "https://localhost:8080/"
    },
    "id": "zMNfgqb62z7W",
    "outputId": "67e2e47d-1f1a-48f1-f888-663d5d0df066"
   },
   "outputs": [],
   "source": [
    "#리스트로 만들어줌 (2차원 배열 [])"
   ]
  },
  {
   "cell_type": "code",
   "execution_count": null,
   "metadata": {
    "id": "MU_19M2Elp65"
   },
   "outputs": [],
   "source": [
    "# k- 최근접 이웃 알고리즘(KNN) \n",
    "\n",
    "from sklearn.neighbors import KNeighborsClassifier"
   ]
  },
  {
   "cell_type": "code",
   "execution_count": null,
   "metadata": {
    "id": "PCYut6Q2lpgQ"
   },
   "outputs": [],
   "source": [
    "# 기본 이웃 의 갯수 : 5개 (기본값) Hyper parimeter  \n",
    "# n_neighbors = 5\n",
    "kn = KNeighborsClassifier()"
   ]
  },
  {
   "cell_type": "code",
   "execution_count": null,
   "metadata": {
    "colab": {
     "base_uri": "https://localhost:8080/",
     "height": 75
    },
    "id": "s1Ip0gXK35SK",
    "outputId": "385067c6-eb47-413c-f2fc-49ee4e2c8415"
   },
   "outputs": [],
   "source": [
    "kn.fit(fish_data, fish_target) # 훈련 "
   ]
  },
  {
   "cell_type": "code",
   "execution_count": null,
   "metadata": {
    "colab": {
     "base_uri": "https://localhost:8080/"
    },
    "id": "_Nqdxnci3-yw",
    "outputId": "1a15f4b1-8379-4fd2-8cd9-964d8c2f0a29"
   },
   "outputs": [],
   "source": [
    "kn.score(fish_data, fish_target) # 측정 "
   ]
  },
  {
   "cell_type": "markdown",
   "metadata": {
    "id": "gZXPiKvRGuFL"
   },
   "source": [
    "### k-최근접 이웃 알고리즘"
   ]
  },
  {
   "cell_type": "code",
   "execution_count": null,
   "metadata": {
    "colab": {
     "base_uri": "https://localhost:8080/",
     "height": 449
    },
    "id": "mVZ6Ikqj4D7q",
    "outputId": "beb7fb7a-de0c-4162-c4f6-efcd325baafd"
   },
   "outputs": [],
   "source": [
    "#predict_height = 30\n",
    "#predict_weight = 600\n",
    "\n",
    "predict_height = 10\n",
    "predict_weight = 10\n",
    "\n",
    "\n",
    "plt.scatter(bream_length, bream_weight)\n",
    "plt.scatter(smelt_length, smelt_weight)\n",
    "\n",
    "plt.scatter(predict_height, predict_weight, marker='^')\n",
    "plt.xlabel('length')\n",
    "plt.ylabel('weight')\n",
    "plt.show()"
   ]
  },
  {
   "cell_type": "code",
   "execution_count": null,
   "metadata": {},
   "outputs": [],
   "source": [
    "predict_y = kn.predict([[predict_height, predict_weight]])\n",
    "\n",
    "print(predict_y) # 빙어로 나옴 "
   ]
  },
  {
   "cell_type": "code",
   "execution_count": null,
   "metadata": {
    "colab": {
     "base_uri": "https://localhost:8080/"
    },
    "id": "6WJ_METitoY1",
    "outputId": "f0dd2e87-826e-4c43-b84d-25c86828ebf8"
   },
   "outputs": [],
   "source": [
    "#print(kn._fit_X)"
   ]
  },
  {
   "cell_type": "code",
   "execution_count": null,
   "metadata": {
    "colab": {
     "base_uri": "https://localhost:8080/"
    },
    "id": "OhERu04-u_Mx",
    "outputId": "0f48d857-f3c2-4cf3-d1fb-4ed23d891ce7"
   },
   "outputs": [],
   "source": [
    "#print(kn._y)"
   ]
  },
  {
   "cell_type": "code",
   "execution_count": null,
   "metadata": {
    "id": "scTxBP0ZvOs0"
   },
   "outputs": [],
   "source": [
    "kn49 = KNeighborsClassifier(n_neighbors=49) #이웃의 숫자를 49로 \n",
    "#kn28 = KNeighborsClassifier(n_neighbors=28)\n",
    "\n"
   ]
  },
  {
   "cell_type": "code",
   "execution_count": null,
   "metadata": {
    "colab": {
     "base_uri": "https://localhost:8080/"
    },
    "id": "gErf9HtixCQw",
    "outputId": "5a566d5a-2258-4b9d-e7ab-063a629038c3"
   },
   "outputs": [],
   "source": [
    "kn49.fit(fish_data, fish_target)\n",
    "kn49.score(fish_data, fish_target)\n"
   ]
  },
  {
   "cell_type": "code",
   "execution_count": null,
   "metadata": {},
   "outputs": [],
   "source": [
    "kn28.fit(fish_data, fish_target)\n",
    "kn28.score(fish_data, fish_target)\n"
   ]
  },
  {
   "cell_type": "code",
   "execution_count": null,
   "metadata": {},
   "outputs": [],
   "source": [
    "predict_y = kn49.predict([[predict_height, predict_weight]])\n",
    "\n",
    "print(predict_y) # 도미 1 로 나옴 "
   ]
  },
  {
   "cell_type": "code",
   "execution_count": null,
   "metadata": {},
   "outputs": [],
   "source": [
    "predict_y = kn28.predict([[predict_height, predict_weight]])\n",
    "\n",
    "print(predict_y) # "
   ]
  },
  {
   "cell_type": "code",
   "execution_count": null,
   "metadata": {
    "colab": {
     "base_uri": "https://localhost:8080/"
    },
    "id": "EGEvjYGrxGfF",
    "outputId": "bb1e82c9-8b5c-45e7-cb61-4b4e6febcc8c"
   },
   "outputs": [],
   "source": [
    "print(35/49)"
   ]
  },
  {
   "cell_type": "markdown",
   "metadata": {
    "id": "Mfasb9WsRoQV"
   },
   "source": [
    "### 확인 문제"
   ]
  },
  {
   "cell_type": "code",
   "execution_count": null,
   "metadata": {
    "colab": {
     "base_uri": "https://localhost:8080/"
    },
    "id": "3pQ2JVooP-y5",
    "outputId": "704322ea-e26b-41b0-d627-9bba4fae6352"
   },
   "outputs": [],
   "source": [
    "kn = KNeighborsClassifier()\n",
    "kn.fit(fish_data, fish_target)\n",
    "\n",
    "for n in range(5, 50):\n",
    "    # 최근접 이웃 개수 설정\n",
    "    kn.n_neighbors = n\n",
    "    # 점수 계산\n",
    "    score = kn.score(fish_data, fish_target)\n",
    "    print(\"neighbrs :\", n , \"Score :\", score)\n",
    "    # 100% 정확도에 미치지 못하는 이웃 개수 출력\n",
    "    if score < 0.7:\n",
    "        print(n, score)\n",
    "        break"
   ]
  },
  {
   "cell_type": "code",
   "execution_count": null,
   "metadata": {},
   "outputs": [],
   "source": [
    "kn17 = KNeighborsClassifier(n_neighbors=28) #이웃의 숫자를 17로 "
   ]
  },
  {
   "cell_type": "code",
   "execution_count": null,
   "metadata": {},
   "outputs": [],
   "source": [
    "kn17.fit(fish_data, fish_target)\n",
    "kn17.score(fish_data, fish_target)"
   ]
  },
  {
   "cell_type": "code",
   "execution_count": null,
   "metadata": {},
   "outputs": [],
   "source": [
    "predict_y = kn17.predict([[predict_height, predict_weight]])\n",
    "\n",
    "print(predict_y) # 0"
   ]
  },
  {
   "cell_type": "code",
   "execution_count": null,
   "metadata": {},
   "outputs": [],
   "source": []
  }
 ],
 "metadata": {
  "colab": {
   "name": "1-3. 마켓과 머신러닝",
   "provenance": []
  },
  "kernelspec": {
   "display_name": "Python 3 (ipykernel)",
   "language": "python",
   "name": "python3"
  },
  "language_info": {
   "codemirror_mode": {
    "name": "ipython",
    "version": 3
   },
   "file_extension": ".py",
   "mimetype": "text/x-python",
   "name": "python",
   "nbconvert_exporter": "python",
   "pygments_lexer": "ipython3",
   "version": "3.11.5"
  }
 },
 "nbformat": 4,
 "nbformat_minor": 1
}
